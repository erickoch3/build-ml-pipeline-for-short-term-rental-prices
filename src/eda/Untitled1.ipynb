{
 "cells": [
  {
   "cell_type": "code",
   "execution_count": 4,
   "id": "810822d1",
   "metadata": {},
   "outputs": [
    {
     "name": "stdout",
     "output_type": "stream",
     "text": [
      "Requirement already satisfied: wandb in /usr/local/anaconda3/envs/mlflow-858f167d8eec61899fc987f841712abd7a7d0795/lib/python3.10/site-packages (0.16.0)\n",
      "Requirement already satisfied: Click!=8.0.0,>=7.1 in /usr/local/anaconda3/envs/mlflow-858f167d8eec61899fc987f841712abd7a7d0795/lib/python3.10/site-packages (from wandb) (8.1.7)\n",
      "Requirement already satisfied: GitPython!=3.1.29,>=1.0.0 in /usr/local/anaconda3/envs/mlflow-858f167d8eec61899fc987f841712abd7a7d0795/lib/python3.10/site-packages (from wandb) (3.1.42)\n",
      "Requirement already satisfied: requests<3,>=2.0.0 in /usr/local/anaconda3/envs/mlflow-858f167d8eec61899fc987f841712abd7a7d0795/lib/python3.10/site-packages (from wandb) (2.31.0)\n",
      "Requirement already satisfied: psutil>=5.0.0 in /usr/local/anaconda3/envs/mlflow-858f167d8eec61899fc987f841712abd7a7d0795/lib/python3.10/site-packages (from wandb) (5.9.8)\n",
      "Requirement already satisfied: sentry-sdk>=1.0.0 in /usr/local/anaconda3/envs/mlflow-858f167d8eec61899fc987f841712abd7a7d0795/lib/python3.10/site-packages (from wandb) (1.40.5)\n",
      "Requirement already satisfied: docker-pycreds>=0.4.0 in /usr/local/anaconda3/envs/mlflow-858f167d8eec61899fc987f841712abd7a7d0795/lib/python3.10/site-packages (from wandb) (0.4.0)\n",
      "Requirement already satisfied: PyYAML in /usr/local/anaconda3/envs/mlflow-858f167d8eec61899fc987f841712abd7a7d0795/lib/python3.10/site-packages (from wandb) (6.0.1)\n",
      "Requirement already satisfied: setproctitle in /usr/local/anaconda3/envs/mlflow-858f167d8eec61899fc987f841712abd7a7d0795/lib/python3.10/site-packages (from wandb) (1.3.3)\n",
      "Requirement already satisfied: setuptools in /usr/local/anaconda3/envs/mlflow-858f167d8eec61899fc987f841712abd7a7d0795/lib/python3.10/site-packages (from wandb) (69.1.1)\n",
      "Requirement already satisfied: appdirs>=1.4.3 in /usr/local/anaconda3/envs/mlflow-858f167d8eec61899fc987f841712abd7a7d0795/lib/python3.10/site-packages (from wandb) (1.4.4)\n",
      "Requirement already satisfied: protobuf!=4.21.0,<5,>=3.19.0 in /usr/local/anaconda3/envs/mlflow-858f167d8eec61899fc987f841712abd7a7d0795/lib/python3.10/site-packages (from wandb) (4.25.3)\n",
      "Requirement already satisfied: six>=1.4.0 in /usr/local/anaconda3/envs/mlflow-858f167d8eec61899fc987f841712abd7a7d0795/lib/python3.10/site-packages (from docker-pycreds>=0.4.0->wandb) (1.16.0)\n",
      "Requirement already satisfied: gitdb<5,>=4.0.1 in /usr/local/anaconda3/envs/mlflow-858f167d8eec61899fc987f841712abd7a7d0795/lib/python3.10/site-packages (from GitPython!=3.1.29,>=1.0.0->wandb) (4.0.11)\n",
      "Requirement already satisfied: charset-normalizer<4,>=2 in /usr/local/anaconda3/envs/mlflow-858f167d8eec61899fc987f841712abd7a7d0795/lib/python3.10/site-packages (from requests<3,>=2.0.0->wandb) (3.3.2)\n",
      "Requirement already satisfied: idna<4,>=2.5 in /usr/local/anaconda3/envs/mlflow-858f167d8eec61899fc987f841712abd7a7d0795/lib/python3.10/site-packages (from requests<3,>=2.0.0->wandb) (3.6)\n",
      "Requirement already satisfied: urllib3<3,>=1.21.1 in /usr/local/anaconda3/envs/mlflow-858f167d8eec61899fc987f841712abd7a7d0795/lib/python3.10/site-packages (from requests<3,>=2.0.0->wandb) (2.2.1)\n",
      "Requirement already satisfied: certifi>=2017.4.17 in /usr/local/anaconda3/envs/mlflow-858f167d8eec61899fc987f841712abd7a7d0795/lib/python3.10/site-packages (from requests<3,>=2.0.0->wandb) (2024.2.2)\n",
      "Requirement already satisfied: smmap<6,>=3.0.1 in /usr/local/anaconda3/envs/mlflow-858f167d8eec61899fc987f841712abd7a7d0795/lib/python3.10/site-packages (from gitdb<5,>=4.0.1->GitPython!=3.1.29,>=1.0.0->wandb) (5.0.1)\n"
     ]
    }
   ],
   "source": [
    "!python3.10 -m pip install wandb"
   ]
  },
  {
   "cell_type": "code",
   "execution_count": 5,
   "id": "6ef726e0",
   "metadata": {},
   "outputs": [
    {
     "ename": "ModuleNotFoundError",
     "evalue": "No module named 'wandb'",
     "output_type": "error",
     "traceback": [
      "\u001b[0;31m---------------------------------------------------------------------------\u001b[0m",
      "\u001b[0;31mModuleNotFoundError\u001b[0m                       Traceback (most recent call last)",
      "Cell \u001b[0;32mIn[5], line 1\u001b[0m\n\u001b[0;32m----> 1\u001b[0m \u001b[38;5;28;01mimport\u001b[39;00m \u001b[38;5;21;01mwandb\u001b[39;00m\n",
      "\u001b[0;31mModuleNotFoundError\u001b[0m: No module named 'wandb'"
     ]
    }
   ],
   "source": [
    "import wandb"
   ]
  },
  {
   "cell_type": "code",
   "execution_count": null,
   "id": "11a1ad6a",
   "metadata": {},
   "outputs": [],
   "source": []
  }
 ],
 "metadata": {
  "kernelspec": {
   "display_name": "Python 3 (ipykernel)",
   "language": "python",
   "name": "python3"
  },
  "language_info": {
   "codemirror_mode": {
    "name": "ipython",
    "version": 3
   },
   "file_extension": ".py",
   "mimetype": "text/x-python",
   "name": "python",
   "nbconvert_exporter": "python",
   "pygments_lexer": "ipython3",
   "version": "3.10.13"
  }
 },
 "nbformat": 4,
 "nbformat_minor": 5
}
