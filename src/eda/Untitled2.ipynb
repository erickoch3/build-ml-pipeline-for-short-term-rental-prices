{
 "cells": [
  {
   "cell_type": "code",
   "execution_count": 1,
   "id": "dd45bd59",
   "metadata": {},
   "outputs": [
    {
     "name": "stdout",
     "output_type": "stream",
     "text": [
      "3.10.13 (main, Aug 24 2023, 12:59:26) [Clang 15.0.0 (clang-1500.0.40.1)]\n"
     ]
    }
   ],
   "source": [
    "import sys\n",
    "print(sys.version)"
   ]
  },
  {
   "cell_type": "code",
   "execution_count": null,
   "id": "51477af0",
   "metadata": {},
   "outputs": [
    {
     "name": "stdout",
     "output_type": "stream",
     "text": [
      "Channels:\n",
      " - defaults\n",
      " - conda-forge\n",
      "Platform: osx-arm64\n",
      "Collecting package metadata (repodata.json): done\n",
      "Solving environment: done\n",
      "\n",
      "## Package Plan ##\n",
      "\n",
      "  environment location: /usr/local/anaconda3/envs/mlflow-858f167d8eec61899fc987f841712abd7a7d0795\n",
      "\n",
      "  added / updated specs:\n",
      "    - wandb\n",
      "\n",
      "\n",
      "The following packages will be downloaded:\n",
      "\n",
      "    package                    |            build\n",
      "    ---------------------------|-----------------\n",
      "    brotli-python-1.0.9        |  py310hc377ac9_7         324 KB\n",
      "    certifi-2024.2.2           |  py310hca03da5_0         161 KB\n",
      "    click-8.1.7                |  py310hca03da5_0         163 KB\n",
      "    gitpython-3.1.37           |  py310hca03da5_0         279 KB\n",
      "    idna-3.4                   |  py310hca03da5_0          98 KB\n",
      "    pathtools-0.1.2            |     pyhd3eb1b0_1           9 KB\n",
      "    protobuf-3.20.3            |  py310h313beb8_0         299 KB\n",
      "    psutil-5.9.0               |  py310h1a28f6b_0         345 KB\n",
      "    pysocks-1.7.1              |  py310hca03da5_0          28 KB\n",
      "    requests-2.31.0            |  py310hca03da5_1          98 KB\n",
      "    sentry-sdk-1.9.0           |  py310hca03da5_0         213 KB\n",
      "    setproctitle-1.2.2         |  py310h1a28f6b_0          16 KB\n",
      "    urllib3-2.1.0              |  py310hca03da5_1         156 KB\n",
      "    wandb-0.16.3               |     pyhd8ed1ab_0         1.4 MB  conda-forge\n",
      "    ------------------------------------------------------------\n",
      "                                           Total:         3.6 MB\n",
      "\n",
      "The following NEW packages will be INSTALLED:\n",
      "\n",
      "  appdirs            pkgs/main/noarch::appdirs-1.4.4-pyhd3eb1b0_0 \n",
      "  brotli-python      pkgs/main/osx-arm64::brotli-python-1.0.9-py310hc377ac9_7 \n",
      "  charset-normalizer pkgs/main/noarch::charset-normalizer-2.0.4-pyhd3eb1b0_0 \n",
      "  click              pkgs/main/osx-arm64::click-8.1.7-py310hca03da5_0 \n",
      "  docker-pycreds     pkgs/main/noarch::docker-pycreds-0.4.0-pyhd3eb1b0_0 \n",
      "  gitdb              pkgs/main/noarch::gitdb-4.0.7-pyhd3eb1b0_0 \n",
      "  gitpython          pkgs/main/osx-arm64::gitpython-3.1.37-py310hca03da5_0 \n",
      "  idna               pkgs/main/osx-arm64::idna-3.4-py310hca03da5_0 \n",
      "  libprotobuf        pkgs/main/osx-arm64::libprotobuf-3.20.3-h514c7bf_0 \n",
      "  pathtools          pkgs/main/noarch::pathtools-0.1.2-pyhd3eb1b0_1 \n",
      "  protobuf           pkgs/main/osx-arm64::protobuf-3.20.3-py310h313beb8_0 \n",
      "  psutil             pkgs/main/osx-arm64::psutil-5.9.0-py310h1a28f6b_0 \n",
      "  pysocks            pkgs/main/osx-arm64::pysocks-1.7.1-py310hca03da5_0 \n",
      "  requests           pkgs/main/osx-arm64::requests-2.31.0-py310hca03da5_1 \n",
      "  sentry-sdk         pkgs/main/osx-arm64::sentry-sdk-1.9.0-py310hca03da5_0 \n",
      "  setproctitle       pkgs/main/osx-arm64::setproctitle-1.2.2-py310h1a28f6b_0 \n",
      "  smmap              pkgs/main/noarch::smmap-4.0.0-pyhd3eb1b0_0 \n",
      "  urllib3            pkgs/main/osx-arm64::urllib3-2.1.0-py310hca03da5_1 \n",
      "  wandb              conda-forge/noarch::wandb-0.16.3-pyhd8ed1ab_0 \n",
      "  zlib               conda-forge/osx-arm64::zlib-1.2.13-h53f4e23_5 \n",
      "\n",
      "The following packages will be SUPERSEDED by a higher-priority channel:\n",
      "\n",
      "  certifi            conda-forge/noarch::certifi-2024.2.2-~ --> pkgs/main/osx-arm64::certifi-2024.2.2-py310hca03da5_0 \n",
      "\n",
      "\n",
      "Proceed ([y]/n)? "
     ]
    }
   ],
   "source": [
    "!conda install wandb"
   ]
  },
  {
   "cell_type": "code",
   "execution_count": null,
   "id": "90b7c783",
   "metadata": {},
   "outputs": [],
   "source": [
    "!conda install wandb -y"
   ]
  },
  {
   "cell_type": "code",
   "execution_count": null,
   "id": "f077aa7e",
   "metadata": {},
   "outputs": [],
   "source": [
    "import wandb"
   ]
  },
  {
   "cell_type": "code",
   "execution_count": null,
   "id": "8cbb5965",
   "metadata": {},
   "outputs": [],
   "source": []
  }
 ],
 "metadata": {
  "kernelspec": {
   "display_name": "Python 3 (ipykernel)",
   "language": "python",
   "name": "python3"
  },
  "language_info": {
   "codemirror_mode": {
    "name": "ipython",
    "version": 3
   },
   "file_extension": ".py",
   "mimetype": "text/x-python",
   "name": "python",
   "nbconvert_exporter": "python",
   "pygments_lexer": "ipython3",
   "version": "3.10.13"
  }
 },
 "nbformat": 4,
 "nbformat_minor": 5
}
